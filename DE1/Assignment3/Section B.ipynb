{
 "cells": [
  {
   "cell_type": "code",
   "execution_count": 1,
   "id": "510c5c5f",
   "metadata": {},
   "outputs": [],
   "source": [
    "import pandas as pd\n",
    "import numpy as np"
   ]
  },
  {
   "cell_type": "code",
   "execution_count": 2,
   "id": "3633bd2f",
   "metadata": {},
   "outputs": [],
   "source": [
    "import pyspark\n",
    "from pyspark import SparkConf, SparkContext\n",
    "from pyspark.sql import SparkSession, SQLContext\n",
    "from pyspark.sql.types import *\n",
    "from pyspark.sql.functions import *"
   ]
  },
  {
   "cell_type": "code",
   "execution_count": 3,
   "id": "0bbdd1eb",
   "metadata": {},
   "outputs": [
    {
     "name": "stderr",
     "output_type": "stream",
     "text": [
      "WARNING: An illegal reflective access operation has occurred\n",
      "WARNING: Illegal reflective access by org.apache.spark.unsafe.Platform (file:/home/ubuntu/.local/lib/python3.10/site-packages/pyspark/jars/spark-unsafe_2.12-3.2.3.jar) to constructor java.nio.DirectByteBuffer(long,int)\n",
      "WARNING: Please consider reporting this to the maintainers of org.apache.spark.unsafe.Platform\n",
      "WARNING: Use --illegal-access=warn to enable warnings of further illegal reflective access operations\n",
      "WARNING: All illegal access operations will be denied in a future release\n",
      "Using Spark's default log4j profile: org/apache/spark/log4j-defaults.properties\n",
      "Setting default log level to \"WARN\".\n",
      "To adjust logging level use sc.setLogLevel(newLevel). For SparkR, use setLogLevel(newLevel).\n",
      "23/02/22 12:40:51 WARN NativeCodeLoader: Unable to load native-hadoop library for your platform... using builtin-java classes where applicable\n"
     ]
    }
   ],
   "source": [
    "spark_session = SparkSession.builder\\\n",
    "        .master(\"spark://192.168.2.70:7077\")\\\n",
    "        .appName(\"Jinglin_PartB\")\\\n",
    "        .config(\"spark.dynamicAllocation.enabled\", True)\\\n",
    "        .config(\"spark.dynamicAllocation.shuffleTracking.enabled\", True)\\\n",
    "        .config(\"spark.shuffle.service.enabled\", True)\\\n",
    "        .config(\"spark.dynamicAllocation.executorIdleTimeout\", \"30s\")\\\n",
    "        .config(\"spark.cores.max\", 4)\\\n",
    "        .getOrCreate()\n",
    "\n",
    "# Old API (RDD)\n",
    "spark_context = spark_session.sparkContext\n",
    "\n",
    "spark_context.setLogLevel(\"ERROR\")"
   ]
  },
  {
   "cell_type": "code",
   "execution_count": 4,
   "id": "dedb1649",
   "metadata": {},
   "outputs": [
    {
     "name": "stderr",
     "output_type": "stream",
     "text": [
      "/home/ubuntu/.local/lib/python3.10/site-packages/pyspark/sql/context.py:77: FutureWarning: Deprecated in 3.0.0. Use SparkSession.builder.getOrCreate() instead.\n",
      "  warnings.warn(\n"
     ]
    }
   ],
   "source": [
    "sqlContext = SQLContext(spark_session.sparkContext)"
   ]
  },
  {
   "cell_type": "code",
   "execution_count": 5,
   "id": "60de4cd0",
   "metadata": {},
   "outputs": [
    {
     "name": "stderr",
     "output_type": "stream",
     "text": [
      "[Stage 2:>                                                          (0 + 1) / 1]\r"
     ]
    },
    {
     "name": "stdout",
     "output_type": "stream",
     "text": [
      "+-------------+-------------------+----------+--------+-----------+--------------+-----------------+----+----+----------+-----+--------------------+-----+------+--------------+---------------------+-----------+---------+---------+------------------+-----------------+----------------------+\n",
      "|Ticket number|         Issue Date|Issue time|Meter Id|Marked Time|RP State Plate|Plate Expiry Date| VIN|Make|Body Style|Color|            Location|Route|Agency|Violation code|Violation Description|Fine amount| Latitude|Longitude|Agency Description|Color Description|Body Style Description|\n",
      "+-------------+-------------------+----------+--------+-----------+--------------+-----------------+----+----+----------+-----+--------------------+-----+------+--------------+---------------------+-----------+---------+---------+------------------+-----------------+----------------------+\n",
      "|   1103341116|2015-12-21 00:00:00|    1251.0|    null|       null|            CA|         200304.0|null|HOND|        PA|   GY|     13147 WELBY WAY|01521|   1.0|        4000A1|   NO EVIDENCE OF REG|       50.0|  99999.0|  99999.0|              null|             null|                  null|\n",
      "|   1103700150|2015-12-21 00:00:00|    1435.0|    null|       null|            CA|         201512.0|null| GMC|        VN|   WH|       525 S MAIN ST| 1C51|   1.0|        4000A1|   NO EVIDENCE OF REG|       50.0|  99999.0|  99999.0|              null|             null|                  null|\n",
      "|   1104803000|2015-12-21 00:00:00|    2055.0|    null|       null|            CA|         201503.0|null|NISS|        PA|   BK|       200 WORLD WAY|  2R2|   2.0|          8939|           WHITE CURB|       58.0|6439997.9|1802686.4|              null|             null|                  null|\n",
      "|   1104820732|2015-12-26 00:00:00|    1515.0|    null|       null|            CA|             null|null|ACUR|        PA|   WH|       100 WORLD WAY| 2F11|   2.0|           000|               17104h|       null|6440041.1|1802686.2|              null|             null|                  null|\n",
      "|   1105461453|2015-09-15 00:00:00|     115.0|    null|       null|            CA|         200316.0|null|CHEV|        PA|   BK|  GEORGIA ST/OLYMPIC|1FB70|   1.0|         8069A| NO STOPPING/STANDING|       93.0|  99999.0|  99999.0|              null|             null|                  null|\n",
      "|   1106226590|2015-09-15 00:00:00|      19.0|    null|       null|            CA|         201507.0|null|CHEV|        VN|   GY|  SAN PEDRO S/O BOYD|1A35W|   1.0|        4000A1|   NO EVIDENCE OF REG|       50.0|  99999.0|  99999.0|              null|             null|                  null|\n",
      "|   1106500452|2015-12-17 00:00:00|    1710.0|    null|       null|            CA|         201605.0|null|MAZD|        PA|   BL|     SUNSET/ALVARADO|00217|   1.0|          8070| PARK IN GRID LOCK ZN|      163.0|  99999.0|  99999.0|              null|             null|                  null|\n",
      "|   1106500463|2015-12-17 00:00:00|    1710.0|    null|       null|            CA|         201602.0|null|TOYO|        PA|   BK|     SUNSET/ALVARADO|00217|   1.0|          8070| PARK IN GRID LOCK ZN|      163.0|  99999.0|  99999.0|              null|             null|                  null|\n",
      "|   1106506402|2015-12-22 00:00:00|     945.0|    null|       null|            CA|         201605.0|null|CHEV|        PA|   BR|      721 S WESTLAKE| 2A75|   1.0|        8069AA|     NO STOP/STAND AM|       93.0|  99999.0|  99999.0|              null|             null|                  null|\n",
      "|   1106506413|2015-12-22 00:00:00|    1100.0|    null|       null|            CA|         201701.0|null|NISS|        PA|   SI|     1159 HUNTLEY DR| 2A75|   1.0|        8069AA|     NO STOP/STAND AM|       93.0|  99999.0|  99999.0|              null|             null|                  null|\n",
      "|   1106506424|2015-12-22 00:00:00|    1100.0|    null|       null|            CA|         201511.0|null|FORD|        TR|   WH|     1159 HUNTLEY DR| 2A75|   1.0|        8069AA|     NO STOP/STAND AM|       93.0|  99999.0|  99999.0|              null|             null|                  null|\n",
      "|   1106506435|2015-12-22 00:00:00|    1105.0|    null|       null|            CA|         201701.0|null|CHRY|        PA|   GO|     1159 HUNTLEY DR| 2A75|   1.0|        8069AA|     NO STOP/STAND AM|       93.0|  99999.0|  99999.0|              null|             null|                  null|\n",
      "|   1106506446|2015-12-22 00:00:00|    1110.0|    null|       null|            CA|         201511.0|null| BMW|        PA|   BK|      1200 W MIRAMAR| 2A75|   1.0|        4000A1|   NO EVIDENCE OF REG|       50.0|  99999.0|  99999.0|              null|             null|                  null|\n",
      "|   1106549754|2015-12-15 00:00:00|     825.0|    null|       null|            CA|         201607.0|null|PTRB|        TR|   BK|           4TH/STATE| CM96|   1.0|         8069A| NO STOPPING/STANDING|       93.0|  99999.0|  99999.0|              null|             null|                  null|\n",
      "|   1107179581|2015-12-27 00:00:00|    1055.0|    null|       null|            CA|         201605.0|null|TOYO|        PA|   BK|3100 N HOLLYRIDGE DR| null|  54.0|         8058L|         PREF PARKING|       68.0|  99999.0|  99999.0|              null|             null|                  null|\n",
      "|   1107179592|2015-12-27 00:00:00|    1200.0|    null|       null|            CA|         201602.0|null|MBNZ|        PA|   BK|   3115 N BERENDO DR| null|  54.0|         8058L|         PREF PARKING|       68.0|  99999.0|  99999.0|              null|             null|                  null|\n",
      "|   1107179603|2015-12-27 00:00:00|    1400.0|    null|       null|            CA|         201611.0|null|NISS|        PA|   WH| 3100 N BEACHWOOD DR| null|  54.0|         8058L|         PREF PARKING|       68.0|  99999.0|  99999.0|              null|             null|                  null|\n",
      "|   1107539823|2015-09-16 00:00:00|    2120.0|    null|       null|            CA|         201502.0|null|NISS|        PA| null|      BLAINE/11TH PL|1FB95|   1.0|        4000A1|   NO EVIDENCE OF REG|       50.0|  99999.0|  99999.0|              null|             null|                  null|\n",
      "|   1107539834|2015-09-16 00:00:00|    1045.0|    null|       null|            CA|             null|null|CHEV|        PA|   BK|  1246 S FIGUEROA ST| 1L20|   1.0|        8069AP|     NO STOP/STAND PM|       93.0|  99999.0|  99999.0|              null|             null|                  null|\n",
      "|   1107780811|2015-12-22 00:00:00|    1102.0|    null|       null|            CA|         201606.0|null|HOND|        PA|   BK|       PLATA/RAMPART|  2A1|   1.0|         8069B|           NO PARKING|       73.0|  99999.0|  99999.0|              null|             null|                  null|\n",
      "+-------------+-------------------+----------+--------+-----------+--------------+-----------------+----+----+----------+-----+--------------------+-----+------+--------------+---------------------+-----------+---------+---------+------------------+-----------------+----------------------+\n",
      "only showing top 20 rows\n",
      "\n"
     ]
    },
    {
     "name": "stderr",
     "output_type": "stream",
     "text": [
      "                                                                                \r"
     ]
    }
   ],
   "source": [
    "#  Load the CSV file from HDFS, and call show() to verify the data is loaded correctly.\n",
    "df = sqlContext.read.csv('hdfs://192.168.2.70:9000/parking-citations.csv',\n",
    "                        header = 'true', inferSchema = 'true').cache()\n",
    "df.show()"
   ]
  },
  {
   "cell_type": "code",
   "execution_count": 6,
   "id": "71af3c6d",
   "metadata": {},
   "outputs": [
    {
     "name": "stdout",
     "output_type": "stream",
     "text": [
      "root\n",
      " |-- Ticket number: string (nullable = true)\n",
      " |-- Issue Date: timestamp (nullable = true)\n",
      " |-- Issue time: double (nullable = true)\n",
      " |-- Meter Id: string (nullable = true)\n",
      " |-- Marked Time: double (nullable = true)\n",
      " |-- RP State Plate: string (nullable = true)\n",
      " |-- Plate Expiry Date: double (nullable = true)\n",
      " |-- VIN: string (nullable = true)\n",
      " |-- Make: string (nullable = true)\n",
      " |-- Body Style: string (nullable = true)\n",
      " |-- Color: string (nullable = true)\n",
      " |-- Location: string (nullable = true)\n",
      " |-- Route: string (nullable = true)\n",
      " |-- Agency: double (nullable = true)\n",
      " |-- Violation code: string (nullable = true)\n",
      " |-- Violation Description: string (nullable = true)\n",
      " |-- Fine amount: double (nullable = true)\n",
      " |-- Latitude: double (nullable = true)\n",
      " |-- Longitude: double (nullable = true)\n",
      " |-- Agency Description: string (nullable = true)\n",
      " |-- Color Description: string (nullable = true)\n",
      " |-- Body Style Description: string (nullable = true)\n",
      "\n"
     ]
    }
   ],
   "source": [
    "# Print the schema for the DataFrame\n",
    "df.printSchema()"
   ]
  },
  {
   "cell_type": "code",
   "execution_count": 7,
   "id": "32521e8b",
   "metadata": {},
   "outputs": [
    {
     "name": "stderr",
     "output_type": "stream",
     "text": [
      "                                                                                \r"
     ]
    },
    {
     "data": {
      "text/plain": [
       "13077724"
      ]
     },
     "execution_count": 7,
     "metadata": {},
     "output_type": "execute_result"
    }
   ],
   "source": [
    "# Count the number of rows in the CSV file\n",
    "df.count()"
   ]
  },
  {
   "cell_type": "code",
   "execution_count": 8,
   "id": "c51055f8",
   "metadata": {},
   "outputs": [
    {
     "data": {
      "text/plain": [
       "16"
      ]
     },
     "execution_count": 8,
     "metadata": {},
     "output_type": "execute_result"
    }
   ],
   "source": [
    "# Count the number of partitions in the underlying RDD.\n",
    "df.rdd.getNumPartitions()"
   ]
  },
  {
   "cell_type": "code",
   "execution_count": 12,
   "id": "8771f711",
   "metadata": {},
   "outputs": [],
   "source": [
    "# Drop the columns VIN, Latitude and Longitude\n",
    "df = df.drop(\"VIN\", \"Latitude\", \"Longitude\")"
   ]
  },
  {
   "cell_type": "code",
   "execution_count": 14,
   "id": "e0c3b7d2",
   "metadata": {},
   "outputs": [
    {
     "name": "stdout",
     "output_type": "stream",
     "text": [
      "root\n",
      " |-- Ticket number: string (nullable = true)\n",
      " |-- Issue Date: timestamp (nullable = true)\n",
      " |-- Issue time: double (nullable = true)\n",
      " |-- Meter Id: string (nullable = true)\n",
      " |-- Marked Time: double (nullable = true)\n",
      " |-- RP State Plate: string (nullable = true)\n",
      " |-- Plate Expiry Date: double (nullable = true)\n",
      " |-- Make: string (nullable = true)\n",
      " |-- Body Style: string (nullable = true)\n",
      " |-- Color: string (nullable = true)\n",
      " |-- Location: string (nullable = true)\n",
      " |-- Route: string (nullable = true)\n",
      " |-- Agency: double (nullable = true)\n",
      " |-- Violation code: string (nullable = true)\n",
      " |-- Violation Description: string (nullable = true)\n",
      " |-- Fine amount: double (nullable = true)\n",
      " |-- Agency Description: string (nullable = true)\n",
      " |-- Color Description: string (nullable = true)\n",
      " |-- Body Style Description: string (nullable = true)\n",
      "\n"
     ]
    }
   ],
   "source": [
    "df.printSchema()"
   ]
  },
  {
   "cell_type": "code",
   "execution_count": 25,
   "id": "25737102",
   "metadata": {},
   "outputs": [
    {
     "name": "stderr",
     "output_type": "stream",
     "text": [
      "[Stage 20:=============================================>          (13 + 3) / 16]\r"
     ]
    },
    {
     "name": "stdout",
     "output_type": "stream",
     "text": [
      "+--------+\n",
      "|Fine_max|\n",
      "+--------+\n",
      "|  1100.0|\n",
      "+--------+\n",
      "\n"
     ]
    },
    {
     "name": "stderr",
     "output_type": "stream",
     "text": [
      "                                                                                \r"
     ]
    }
   ],
   "source": [
    "# Find the maximum fine amount. \n",
    "df['Fine amount'].cast('float')\n",
    "df.select(max(df['Fine amount']).alias(\"Fine_max\")).show()"
   ]
  },
  {
   "cell_type": "code",
   "execution_count": 30,
   "id": "10d86798",
   "metadata": {},
   "outputs": [
    {
     "name": "stderr",
     "output_type": "stream",
     "text": [
      "[Stage 35:======================================>                 (11 + 4) / 16]\r"
     ]
    },
    {
     "name": "stdout",
     "output_type": "stream",
     "text": [
      "Fine_max shows 626 times\n"
     ]
    },
    {
     "name": "stderr",
     "output_type": "stream",
     "text": [
      "                                                                                \r"
     ]
    }
   ],
   "source": [
    "# How many fines have this amount?\n",
    "filterdata = df.filter(df['Fine amount'] == 1100.0)\n",
    "occurrence = filterdata.count()\n",
    "print(f'Fine_max shows {occurrence} times')"
   ]
  },
  {
   "cell_type": "code",
   "execution_count": 34,
   "id": "a222081c",
   "metadata": {},
   "outputs": [
    {
     "name": "stderr",
     "output_type": "stream",
     "text": [
      "                                                                                \r"
     ]
    },
    {
     "data": {
      "text/plain": [
       "[Row(Make='TOYT', count=2150768),\n",
       " Row(Make='HOND', count=1479996),\n",
       " Row(Make='FORD', count=1116235),\n",
       " Row(Make='NISS', count=945133),\n",
       " Row(Make='CHEV', count=892676),\n",
       " Row(Make='BMW', count=603092),\n",
       " Row(Make='MERZ', count=543298),\n",
       " Row(Make='VOLK', count=432030),\n",
       " Row(Make='HYUN', count=404917),\n",
       " Row(Make='DODG', count=391686),\n",
       " Row(Make='LEXS', count=368420),\n",
       " Row(Make='KIA', count=328155),\n",
       " Row(Make='JEEP', count=316300),\n",
       " Row(Make='AUDI', count=255395),\n",
       " Row(Make='MAZD', count=242344),\n",
       " Row(Make='OTHR', count=205546),\n",
       " Row(Make='GMC', count=184889),\n",
       " Row(Make='INFI', count=174315),\n",
       " Row(Make='CHRY', count=159948),\n",
       " Row(Make='SUBA', count=154640)]"
      ]
     },
     "execution_count": 34,
     "metadata": {},
     "output_type": "execute_result"
    }
   ],
   "source": [
    "# Show the top 20 most frequent vehicle makes, and their frequencies\n",
    "makes = df.groupby('Make').count()\n",
    "makes.sort(\"count\", ascending=False).take(20)"
   ]
  },
  {
   "cell_type": "code",
   "execution_count": 36,
   "id": "17244892",
   "metadata": {},
   "outputs": [
    {
     "name": "stderr",
     "output_type": "stream",
     "text": [
      "[Stage 57:>                                                         (0 + 1) / 1]\r"
     ]
    },
    {
     "name": "stdout",
     "output_type": "stream",
     "text": [
      "+-------------+-------------------+----------+--------+-----------+--------------+-----------------+----+----------+-----+--------------------+-----+------+--------------+---------------------+-----------+------------------+-----------------+----------------------+----------+\n",
      "|Ticket number|         Issue Date|Issue time|Meter Id|Marked Time|RP State Plate|Plate Expiry Date|Make|Body Style|Color|            Location|Route|Agency|Violation code|Violation Description|Fine amount|Agency Description|Color Description|Body Style Description|color long|\n",
      "+-------------+-------------------+----------+--------+-----------+--------------+-----------------+----+----------+-----+--------------------+-----+------+--------------+---------------------+-----------+------------------+-----------------+----------------------+----------+\n",
      "|   1103341116|2015-12-21 00:00:00|    1251.0|    null|       null|            CA|         200304.0|HOND|        PA|   GY|     13147 WELBY WAY|01521|   1.0|        4000A1|   NO EVIDENCE OF REG|       50.0|              null|             null|                  null|      Gray|\n",
      "|   1103700150|2015-12-21 00:00:00|    1435.0|    null|       null|            CA|         201512.0| GMC|        VN|   WH|       525 S MAIN ST| 1C51|   1.0|        4000A1|   NO EVIDENCE OF REG|       50.0|              null|             null|                  null|     White|\n",
      "|   1104803000|2015-12-21 00:00:00|    2055.0|    null|       null|            CA|         201503.0|NISS|        PA|   BK|       200 WORLD WAY|  2R2|   2.0|          8939|           WHITE CURB|       58.0|              null|             null|                  null|     Black|\n",
      "|   1104820732|2015-12-26 00:00:00|    1515.0|    null|       null|            CA|             null|ACUR|        PA|   WH|       100 WORLD WAY| 2F11|   2.0|           000|               17104h|       null|              null|             null|                  null|     White|\n",
      "|   1105461453|2015-09-15 00:00:00|     115.0|    null|       null|            CA|         200316.0|CHEV|        PA|   BK|  GEORGIA ST/OLYMPIC|1FB70|   1.0|         8069A| NO STOPPING/STANDING|       93.0|              null|             null|                  null|     Black|\n",
      "|   1106226590|2015-09-15 00:00:00|      19.0|    null|       null|            CA|         201507.0|CHEV|        VN|   GY|  SAN PEDRO S/O BOYD|1A35W|   1.0|        4000A1|   NO EVIDENCE OF REG|       50.0|              null|             null|                  null|      Gray|\n",
      "|   1106500452|2015-12-17 00:00:00|    1710.0|    null|       null|            CA|         201605.0|MAZD|        PA|   BL|     SUNSET/ALVARADO|00217|   1.0|          8070| PARK IN GRID LOCK ZN|      163.0|              null|             null|                  null|      Blue|\n",
      "|   1106500463|2015-12-17 00:00:00|    1710.0|    null|       null|            CA|         201602.0|TOYO|        PA|   BK|     SUNSET/ALVARADO|00217|   1.0|          8070| PARK IN GRID LOCK ZN|      163.0|              null|             null|                  null|     Black|\n",
      "|   1106506402|2015-12-22 00:00:00|     945.0|    null|       null|            CA|         201605.0|CHEV|        PA|   BR|      721 S WESTLAKE| 2A75|   1.0|        8069AA|     NO STOP/STAND AM|       93.0|              null|             null|                  null|     Brown|\n",
      "|   1106506413|2015-12-22 00:00:00|    1100.0|    null|       null|            CA|         201701.0|NISS|        PA|   SI|     1159 HUNTLEY DR| 2A75|   1.0|        8069AA|     NO STOP/STAND AM|       93.0|              null|             null|                  null|    Silver|\n",
      "|   1106506424|2015-12-22 00:00:00|    1100.0|    null|       null|            CA|         201511.0|FORD|        TR|   WH|     1159 HUNTLEY DR| 2A75|   1.0|        8069AA|     NO STOP/STAND AM|       93.0|              null|             null|                  null|     White|\n",
      "|   1106506435|2015-12-22 00:00:00|    1105.0|    null|       null|            CA|         201701.0|CHRY|        PA|   GO|     1159 HUNTLEY DR| 2A75|   1.0|        8069AA|     NO STOP/STAND AM|       93.0|              null|             null|                  null|      Gold|\n",
      "|   1106506446|2015-12-22 00:00:00|    1110.0|    null|       null|            CA|         201511.0| BMW|        PA|   BK|      1200 W MIRAMAR| 2A75|   1.0|        4000A1|   NO EVIDENCE OF REG|       50.0|              null|             null|                  null|     Black|\n",
      "|   1106549754|2015-12-15 00:00:00|     825.0|    null|       null|            CA|         201607.0|PTRB|        TR|   BK|           4TH/STATE| CM96|   1.0|         8069A| NO STOPPING/STANDING|       93.0|              null|             null|                  null|     Black|\n",
      "|   1107179581|2015-12-27 00:00:00|    1055.0|    null|       null|            CA|         201605.0|TOYO|        PA|   BK|3100 N HOLLYRIDGE DR| null|  54.0|         8058L|         PREF PARKING|       68.0|              null|             null|                  null|     Black|\n",
      "|   1107179592|2015-12-27 00:00:00|    1200.0|    null|       null|            CA|         201602.0|MBNZ|        PA|   BK|   3115 N BERENDO DR| null|  54.0|         8058L|         PREF PARKING|       68.0|              null|             null|                  null|     Black|\n",
      "|   1107179603|2015-12-27 00:00:00|    1400.0|    null|       null|            CA|         201611.0|NISS|        PA|   WH| 3100 N BEACHWOOD DR| null|  54.0|         8058L|         PREF PARKING|       68.0|              null|             null|                  null|     White|\n",
      "|   1107539823|2015-09-16 00:00:00|    2120.0|    null|       null|            CA|         201502.0|NISS|        PA| null|      BLAINE/11TH PL|1FB95|   1.0|        4000A1|   NO EVIDENCE OF REG|       50.0|              null|             null|                  null|      null|\n",
      "|   1107539834|2015-09-16 00:00:00|    1045.0|    null|       null|            CA|             null|CHEV|        PA|   BK|  1246 S FIGUEROA ST| 1L20|   1.0|        8069AP|     NO STOP/STAND PM|       93.0|              null|             null|                  null|     Black|\n",
      "|   1107780811|2015-12-22 00:00:00|    1102.0|    null|       null|            CA|         201606.0|HOND|        PA|   BK|       PLATA/RAMPART|  2A1|   1.0|         8069B|           NO PARKING|       73.0|              null|             null|                  null|     Black|\n",
      "+-------------+-------------------+----------+--------+-----------+--------------+-----------------+----+----------+-----+--------------------+-----+------+--------------+---------------------+-----------+------------------+-----------------+----------------------+----------+\n",
      "only showing top 20 rows\n",
      "\n"
     ]
    },
    {
     "name": "stderr",
     "output_type": "stream",
     "text": [
      "                                                                                \r"
     ]
    }
   ],
   "source": [
    "# Create a User Defined Function to create a new column 'color long'\n",
    "def map_color(color):\n",
    "    COLORS = {\n",
    "        'AL': 'Aluminum',\n",
    "        'AM': 'Amber',\n",
    "        'BG': 'Beige',\n",
    "        'BK': 'Black',\n",
    "        'BL': 'Blue',\n",
    "        'BN': 'Brown',\n",
    "        'BR': 'Brown',\n",
    "        'BZ': 'Bronze',\n",
    "        'CH': 'Charcoal',\n",
    "        'DK': 'Dark',\n",
    "        'GD': 'Gold',\n",
    "        'GO': 'Gold',\n",
    "        'GN': 'Green',\n",
    "        'GY': 'Gray',\n",
    "        'GT': 'Granite',\n",
    "        'IV': 'Ivory',\n",
    "        'LT': 'Light',\n",
    "        'OL': 'Olive',\n",
    "        'OR': 'Orange',\n",
    "        'MR': 'Maroon',\n",
    "        'PK': 'Pink',\n",
    "        'RD': 'Red',\n",
    "        'RE': 'Red',\n",
    "        'SI': 'Silver',\n",
    "        'SL': 'Silver',\n",
    "        'SM': 'Smoke',\n",
    "        'TN': 'Tan',\n",
    "        'VT': 'Violet',\n",
    "        'WT': 'White',\n",
    "        'WH': 'White',\n",
    "        'YL': 'Yellow',\n",
    "        'YE': 'Yellow',\n",
    "        'UN': 'Unknown'\n",
    "    }\n",
    "    return COLORS.get(color, color)\n",
    "\n",
    "convertUDF = udf(lambda color: map_color(color), StringType())\n",
    "add_colorlong = df.withColumn(\"color long\", convertUDF(col(\"Color\")))\n",
    "add_colorlong.show()"
   ]
  },
  {
   "cell_type": "code",
   "execution_count": 53,
   "id": "e07c49f1",
   "metadata": {},
   "outputs": [
    {
     "name": "stderr",
     "output_type": "stream",
     "text": [
      "                                                                                \r"
     ]
    },
    {
     "data": {
      "text/plain": [
       "Row(color long='Gray', is_toyota=True, count=489697)"
      ]
     },
     "execution_count": 53,
     "metadata": {},
     "output_type": "execute_result"
    }
   ],
   "source": [
    "df_istoyota = add_colorlong.withColumn(\"is_toyota\", col(\"Make\")==\"TOYT\")\n",
    "color_count = df_istoyota.groupBy([\"color long\", \"is_toyota\"]).count()\n",
    "toyota_color_count = color_count.filter(col(\"is_toyota\")).orderBy(col(\"count\").desc())\n",
    "toyota_color_count.first()"
   ]
  },
  {
   "cell_type": "code",
   "execution_count": null,
   "id": "b95bb182",
   "metadata": {},
   "outputs": [],
   "source": [
    "# Based on the result, gray is the most frequent color value for Toyotas."
   ]
  }
 ],
 "metadata": {
  "kernelspec": {
   "display_name": "Python 3 (ipykernel)",
   "language": "python",
   "name": "python3"
  },
  "language_info": {
   "codemirror_mode": {
    "name": "ipython",
    "version": 3
   },
   "file_extension": ".py",
   "mimetype": "text/x-python",
   "name": "python",
   "nbconvert_exporter": "python",
   "pygments_lexer": "ipython3",
   "version": "3.10.6"
  }
 },
 "nbformat": 4,
 "nbformat_minor": 5
}
